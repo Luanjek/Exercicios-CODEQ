{
  "cells": [
    {
      "cell_type": "markdown",
      "metadata": {
        "id": "view-in-github",
        "colab_type": "text"
      },
      "source": [
        "<a href=\"https://colab.research.google.com/github/Luanjek/Exercicios-CODEQ/blob/main/Exerc%C3%ADcios_codeq.ipynb\" target=\"_parent\"><img src=\"https://colab.research.google.com/assets/colab-badge.svg\" alt=\"Open In Colab\"/></a>"
      ]
    },
    {
      "cell_type": "markdown",
      "metadata": {
        "id": "vG8J5c3rTp_C"
      },
      "source": [
        "# 1.\n",
        "\n",
        "Leia 2 valores inteiros e armazene-os nas variáveis **A** e **B**. Efetue a soma de **A** e **B** atribuindo o seu resultado na variável **X**. Imprima **X** conforme exemplo apresentado abaixo.\n",
        "\n",
        "## **Entrada**\n",
        "\n",
        "A entrada contém 2 valores inteiros.\n",
        "\n",
        "## **Saída**\n",
        "\n",
        "Imprima a mensagem \"X = \" (letra X maiúscula) seguido pelo valor da variável **X** e pelo final de linha. Cuide para ter um espaço antes e depois do sinal de igualdade, conforme o exemplo abaixo.\n",
        "\n",
        "10\n",
        "\n",
        "4            \n",
        "\n",
        "X = 14\n"
      ]
    },
    {
      "cell_type": "code",
      "execution_count": null,
      "metadata": {
        "colab": {
          "base_uri": "https://localhost:8080/"
        },
        "id": "uVp_KojEQ7R-",
        "outputId": "a0c0ea11-7bc5-47ab-aa2c-41cfb2af61f1"
      },
      "outputs": [
        {
          "name": "stdout",
          "output_type": "stream",
          "text": [
            "10\n",
            "4\n",
            "X = 14\n"
          ]
        }
      ],
      "source": [
        "A = int(input())\n",
        "B = int(input())\n",
        "X = (A + B)\n",
        "print(\"X =\", X)"
      ]
    },
    {
      "cell_type": "markdown",
      "metadata": {
        "id": "x9bPBv3eUl4R"
      },
      "source": [
        "# 2.\n",
        "\n",
        "A fórmula para calcular a área de uma circunferência é: **area = π . raio2**. Considerando para este problema que **π =** 3.14159:\n",
        "\n",
        "- Efetue o cálculo da área, elevando o valor de **raio** ao quadrado e multiplicando por **π**.\n",
        "\n",
        "## **Entrada**\n",
        "\n",
        "A entrada contém um valor de ponto flutuante (dupla precisão), no caso, a variável **raio.**\n",
        "\n",
        "## **Saída**\n",
        "\n",
        "Apresentar a mensagem \"A = \" seguido pelo valor da variável **area**, conforme exemplo abaixo, com 4 casas após o ponto decimal. Utilize variáveis de dupla precisão (double).\n",
        "\n",
        "2\n",
        "\n",
        "A = 12.5664"
      ]
    },
    {
      "cell_type": "code",
      "execution_count": null,
      "metadata": {
        "colab": {
          "base_uri": "https://localhost:8080/"
        },
        "id": "QJyrfHY0Txtz",
        "outputId": "11759fe7-d7ae-406f-bc04-ea96ebaca29a"
      },
      "outputs": [
        {
          "name": "stdout",
          "output_type": "stream",
          "text": [
            "2\n",
            "A = 12.5664\n"
          ]
        }
      ],
      "source": [
        "pi = 3.14159\n",
        "raio = float(input())\n",
        "area = pi*raio**2\n",
        "A = area\n",
        "print(\"A =\", round(A, 4))\n",
        "\n"
      ]
    },
    {
      "cell_type": "markdown",
      "metadata": {
        "id": "I4oPBsBdY8X4"
      },
      "source": [
        "# 3.\n",
        "\n",
        "Leia 3 valores, no caso, variáveis A, B e C, que são as três notas de um aluno. A seguir, calcule a média do aluno, sabendo que a nota A tem peso 2, a nota B tem peso 3 e a nota C tem peso 5. Considere que cada nota pode ir de 0 até 10.0, sempre com uma casa decimal.\n",
        "## **Entrada**\n",
        "\n",
        "O arquivo de entrada contém 3 valores com uma casa decimal, de dupla precisão (double).\n",
        "## **Saída**\n",
        "\n",
        "Imprima a mensagem \"MEDIA = \" e a média do aluno conforme exemplo abaixo, com 1 dígito após o ponto decimal e com um espaço em branco antes e depois da igualdade.\n",
        "\n",
        "5.0\n",
        "\n",
        "6.0\n",
        "\n",
        "7.0\n",
        "\n",
        "MEDIA = 6.3"
      ]
    },
    {
      "cell_type": "code",
      "execution_count": null,
      "metadata": {
        "colab": {
          "base_uri": "https://localhost:8080/"
        },
        "id": "KhQNs2F7UHRp",
        "outputId": "969645e4-73ba-4934-dde2-a6c2765d7cbf"
      },
      "outputs": [
        {
          "name": "stdout",
          "output_type": "stream",
          "text": [
            "Nota aluno A: 5.0\n",
            "Nota aluno B: 6.0\n",
            "Nota aluno C: 7.0\n",
            "MEDIA = 6.3\n"
          ]
        }
      ],
      "source": [
        "nota_A = float(input(\"Nota aluno A: \"))\n",
        "nota_B = float(input(\"Nota aluno B: \"))\n",
        "nota_C = float(input(\"Nota aluno C: \"))\n",
        "\n",
        "peso_nota_A = 2.0\n",
        "peso_nota_B = 3.0\n",
        "peso_nota_C = 5.0\n",
        "\n",
        "MEDIA = ((nota_A*peso_nota_A) + (nota_B*peso_nota_B) + (nota_C*peso_nota_C))/ (peso_nota_A + peso_nota_B + peso_nota_C)\n",
        "print(\"MEDIA =\", round(MEDIA, 1))"
      ]
    },
    {
      "cell_type": "markdown",
      "metadata": {
        "id": "JJx_00-RcvLW"
      },
      "source": [
        "# 4.\n",
        "\n",
        "Escreva um programa que leia três valores com ponto flutuante de dupla precisão: A, B e C. Em seguida, calcule e mostre:\n",
        "\n",
        "a) a área do triângulo retângulo que tem A por base e C por altura.\n",
        "\n",
        "b) a área do círculo de raio C. (pi = 3.14159)\n",
        "\n",
        "c) a área do trapézio que tem A e B por bases e C por altura.\n",
        "\n",
        "d) a área do quadrado que tem lado B.\n",
        "\n",
        "e) a área do retângulo que tem lados A e B.\n",
        "\n",
        "## **Entrada**\n",
        "\n",
        "O arquivo de entrada contém três valores com um dígito após o ponto decimal.\n",
        "\n",
        "## **Saída**\n",
        "\n",
        "O arquivo de saída deverá conter 5 linhas de dados. Cada linha corresponde a uma das áreas descritas acima, sempre com mensagem correspondente e um espaço entre os dois pontos e o valor. O valor calculado deve ser apresentado com 3 dígitos após o ponto decimal.\n",
        "\n",
        "3.0 4.0 5.2\n",
        "\n",
        "TRIANGULO: 7.800\n",
        "\n",
        "CIRCULO: 84.949\n",
        "\n",
        "TRAPEZIO: 18.200\n",
        "\n",
        "QUADRADO: 16.000\n",
        "\n",
        "RETANGULO: 12.000"
      ]
    },
    {
      "cell_type": "code",
      "execution_count": null,
      "metadata": {
        "colab": {
          "base_uri": "https://localhost:8080/"
        },
        "id": "kvVfuk7_a_dO",
        "outputId": "c87ea28c-e87d-4f3f-e5b7-d350dda1f6fb"
      },
      "outputs": [
        {
          "name": "stdout",
          "output_type": "stream",
          "text": [
            "3.0 4.0 5.2\n",
            "TRIANGULO  7.800\n",
            "CIRCULO: 84.949\n",
            "TRAPEZIO: 18.200\n",
            "QUADRADO: 16.000\n",
            "RETANGULO: 12.000\n"
          ]
        }
      ],
      "source": [
        "A, B, C = map(float, input().split())\n",
        " \n",
        "pi = 3.14159\n",
        "\n",
        "area_triangulo = (A * C)/2\n",
        "area_circulo = (pi * C**2)\n",
        "area_trapezio = ((A + B)*C)/2\n",
        "area_quadrado = (B * B)\n",
        "area_retangulo = (A * B)\n",
        "\n",
        "print(\"TRIANGULO: %.3f\" % area_triangulo)\n",
        "print(\"CIRCULO: %.3f\" % area_circulo)\n",
        "print(\"TRAPEZIO: %.3f\" % area_trapezio)\n",
        "print(\"QUADRADO: %.3f\" % area_quadrado)\n",
        "print(\"RETANGULO: %.3f\" % area_retangulo)"
      ]
    },
    {
      "cell_type": "markdown",
      "metadata": {
        "id": "7REGIAzAzCUG"
      },
      "source": [
        "# 5.\n",
        "\n",
        "Leia os quatro valores correspondentes aos eixos x e y de dois pontos quaisquer no plano, p1(x1,y1) e p2(x2,y2) e calcule a distância entre eles, mostrando 4 casas decimais após a vírgula.\n",
        "## **Entrada**\n",
        "\n",
        "O arquivo de entrada contém duas linhas de dados. A primeira linha contém dois valores de ponto flutuante: ***x1 y1*** e a segunda linha contém dois valores de ponto flutuante ***x2 y2.***\n",
        "## **Saída**\n",
        "\n",
        "Calcule e imprima o valor da distância segundo a fórmula fornecida, com 4 casas após o ponto decimal.\n",
        "\n",
        "1.0  7.0\n",
        "\n",
        "5.0  9.0\n",
        "\n",
        "4.4721"
      ]
    },
    {
      "cell_type": "code",
      "execution_count": null,
      "metadata": {
        "colab": {
          "base_uri": "https://localhost:8080/"
        },
        "id": "olFprEHm0CIL",
        "outputId": "66872424-2d61-4b83-93b9-6c1f11c1fc67"
      },
      "outputs": [
        {
          "name": "stdout",
          "output_type": "stream",
          "text": [
            "1.0 7.0 \n",
            "5.0 9.0\n",
            "4.4721\n"
          ]
        }
      ],
      "source": [
        "import math\n",
        "\n",
        "x1, y1 = map(float, input().split())\n",
        "x2, y2 = map(float, input().split())\n",
        "\n",
        "distancia = math.sqrt((x2 - x1)**2 + (y2 - y1)**2)\n",
        "print(round(distancia, 4))"
      ]
    },
    {
      "cell_type": "markdown",
      "metadata": {
        "id": "QnUXujRgXYZm"
      },
      "source": [
        "# 6.\n",
        "\n",
        "Escreva um programa que leia o número de um funcionário, seu número de horas trabalhadas, o valor que recebe por hora e calcula o salário desse funcionário. A seguir, mostre o número e o salário do funcionário, com duas casas decimais.\n",
        "\n",
        "## **Entrada**\n",
        "\n",
        "O arquivo de entrada contém 2 números inteiros e 1 número com duas casas decimais, representando o número, quantidade de horas trabalhadas e o valor que o funcionário recebe por hora trabalhada, respectivamente.\n",
        "\n",
        "## **Saída**\n",
        "\n",
        "Imprima o número e o salário do funcionário, conforme exemplo fornecido, com um espaço em branco antes e depois da igualdade. No caso do salário, também deve haver um espaço em branco após o $.\n",
        "\n",
        "25\n",
        "\n",
        "100\n",
        "\n",
        "5.50\n",
        "\n",
        "NUMBER = 25\n",
        "\n",
        "SALARY = U$ 550.00"
      ]
    },
    {
      "cell_type": "code",
      "execution_count": null,
      "metadata": {
        "colab": {
          "base_uri": "https://localhost:8080/"
        },
        "id": "aM8aAseeXoVi",
        "outputId": "d7449e11-039f-4ff0-e777-5619de692463"
      },
      "outputs": [
        {
          "name": "stdout",
          "output_type": "stream",
          "text": [
            "25\n",
            "100\n",
            "5.50\n",
            "NUMBER =  25\n",
            "SALARY = U$ 550.00\n"
          ]
        }
      ],
      "source": [
        "num_funcionario = float(input())\n",
        "horas_trabalhadas = float(input())\n",
        "valor_hora = float(input())\n",
        "\n",
        "salario = horas_trabalhadas * valor_hora\n",
        "print(\"NUMBER = %.0f\" % num_funcionario)\n",
        "print(\"SALARY = U$ %.2f\" %salario)   "
      ]
    },
    {
      "cell_type": "markdown",
      "metadata": {
        "id": "7kjNvHS4Xosi"
      },
      "source": [
        "# 7.\n",
        "\n",
        "Leia um valor inteiro correspondente à idade de uma pessoa em dias e informe-a em anos, meses e dias\n",
        "\n",
        "Obs.: apenas para facilitar o cálculo, considere todo ano com 365 dias e todo mês com 30 dias. Nos casos de teste nunca haverá uma situação que permite 12 meses e alguns dias, como 360, 363 ou 364. Este é apenas um exercício com objetivo de testar raciocínio matemático simples.\n",
        "\n",
        "Dica: pesquise pela operação de módulo ou resto\n",
        "\n",
        "## **Entrada**\n",
        "\n",
        "O arquivo de entrada contém um valor inteiro.\n",
        "\n",
        "## **Saída**\n",
        "\n",
        "Imprima a saída conforme exemplo fornecido.\n",
        "\n",
        "800\n",
        "\n",
        "2 ano(s)\n",
        "\n",
        "2 mes(es)\n",
        "\n",
        "10 dia(s)\n"
      ]
    },
    {
      "cell_type": "code",
      "execution_count": null,
      "metadata": {
        "colab": {
          "base_uri": "https://localhost:8080/"
        },
        "id": "09Z9Yb0aXugi",
        "outputId": "4423be56-b452-4f27-b434-1f847e68b23f"
      },
      "outputs": [
        {
          "name": "stdout",
          "output_type": "stream",
          "text": [
            "800\n",
            "2 ano(s)\n",
            "2 mes(es)\n",
            "10 dia(s)\n"
          ]
        }
      ],
      "source": [
        "idade = int(input())\n",
        "\n",
        "idade_em_anos = idade // 365\n",
        "idade = idade % 365\n",
        "idade_em_meses = idade // 30\n",
        "idade = idade % 30 \n",
        "idade_em_dias = idade\n",
        "\n",
        "print(idade_em_anos, \"ano(s)\")\n",
        "print(idade_em_meses, \"mes(es)\")\n",
        "print(idade_em_dias, \"dia(s)\")"
      ]
    },
    {
      "cell_type": "markdown",
      "metadata": {
        "id": "gzhw7G3VXyzK"
      },
      "source": [
        "# 8.\n",
        "\n",
        "Leia 3 valores de ponto flutuante e efetue o cálculo das raízes da equação de Bhaskara. Se não for possível calcular as raízes, mostre a mensagem correspondente *“Impossivel calcular”*, caso haja uma divisão por 0 ou raiz de numero negativo.\n",
        "\n",
        "## **Entrada**\n",
        "\n",
        "Leia três valores de ponto flutuante (double) A, B e C.\n",
        "\n",
        "## **Saída**\n",
        "\n",
        "Se não houver possibilidade de calcular as raízes, apresente a mensagem \"Impossivel calcular\". Caso contrário, imprima o resultado das raízes com 5 dígitos após o ponto, com uma mensagem correspondente conforme exemplo abaixo. Imprima sempre o final de linha após cada mensagem.\n",
        "\n",
        "10.0 20.1 5.1  \n",
        "\n",
        "R1 = -0.29788\n",
        "\n",
        "R2 = -1.71212\n",
        "\n",
        "0.0 20.0 5.0\n",
        "\n",
        "Impossivel calcular"
      ]
    },
    {
      "cell_type": "code",
      "execution_count": null,
      "metadata": {
        "colab": {
          "base_uri": "https://localhost:8080/"
        },
        "id": "czQoe7z7YCgJ",
        "outputId": "6d65bd7b-cb79-49e8-b8f8-216192ca804f"
      },
      "outputs": [
        {
          "name": "stdout",
          "output_type": "stream",
          "text": [
            "0.0 20.0 5.0\n",
            "Impossível calcular\n"
          ]
        }
      ],
      "source": [
        "import math\n",
        "\n",
        "A, B, C = map(float, input().split())\n",
        "\n",
        "delta = B**2 - 4*A*C\n",
        "\n",
        "if delta <=0 or A==0:\n",
        "  print(\"Impossível calcular\")\n",
        "else:\n",
        "  x1 = (-B + math.sqrt(delta)) / (2*A)\n",
        "  x2 = (-B - math.sqrt(delta)) / (2*A)\n",
        "\n",
        "  print(\"R1 =\", round(x1, 5))\n",
        "  print(\"R2 =\", round(x2, 5))\n"
      ]
    },
    {
      "cell_type": "markdown",
      "metadata": {
        "id": "z5Rn1GHqYC4R"
      },
      "source": [
        "# 9.\n",
        "\n",
        "Leia um número inteiro que representa um código de DDD para discagem interurbana. Em seguida, informe à qual cidade o DDD pertence, considerando a tabela abaixo:\n",
        "\n",
        "| DDD | Destino |\n",
        "| --- | --- |\n",
        "| 61 | Brasília |\n",
        "| 71 | Salvador |\n",
        "| 11 | São Paulo |\n",
        "| 21 | Rio de Janeiro |\n",
        "| 32 | Juiz de Fora |\n",
        "| 19 | Campinas |\n",
        "| 27 | Vitória |\n",
        "| 31 | Belo Horizonte |\n",
        "| 55 | Santa Maria |\n",
        "\n",
        "Se a entrada for qualquer outro DDD que não esteja presente na tabela acima, o programa deverá informar: `DDD não cadastrado`\n",
        "\n",
        "## **Entrada**\n",
        "\n",
        "A entrada consiste de um único valor inteiro.\n",
        "\n",
        "## **Saída**\n",
        "\n",
        "Imprima o nome da cidade correspondente ao DDD existente na entrada. Imprima *DDD nao cadastrado*\n",
        " caso não existir DDD correspondente ao número digitado.\n",
        "\n",
        "11\n",
        "\n",
        "São Paulo"
      ]
    },
    {
      "cell_type": "code",
      "execution_count": null,
      "metadata": {
        "colab": {
          "base_uri": "https://localhost:8080/"
        },
        "id": "lxQmGyKEYKHT",
        "outputId": "ecdf55f5-b3ec-483e-b110-2c4b76a171f2"
      },
      "outputs": [
        {
          "name": "stdout",
          "output_type": "stream",
          "text": [
            "28\n",
            "DDD não cadastrado\n"
          ]
        }
      ],
      "source": [
        "DDD = int(input())\n",
        "\n",
        "tabela_cidades = {\n",
        "    61: \"Brasília\",\n",
        "    71: \"Salvador\",\n",
        "    11: \"São Paulo\",\n",
        "    21: \"Rio de Janeiro\",\n",
        "    32: \"Juiz de Fora\",\n",
        "    19: \"Campinas\",\n",
        "    27: \"Vitória\",\n",
        "    31: \"Belo Horizonte\",\n",
        "    55: \"Santa Maria\"\n",
        "}\n",
        "\n",
        "if DDD in tabela_cidades:\n",
        "  print (tabela_cidades[DDD])\n",
        "else:\n",
        "  print(\"DDD não cadastrado\")"
      ]
    },
    {
      "cell_type": "markdown",
      "metadata": {
        "id": "Pf0a9aV5YKfa"
      },
      "source": [
        "# 10.\n",
        "\n",
        "A Federação Gaúcha de Futebol contratou você para escrever um programa para fazer uma estatística do resultado de vários GRENAIS. Escreva um programa para ler o número de gols marcados pelo Inter e pelo Grêmio em um GRENAL. Logo após escrever a mensagem \"Novo grenal (1-sim 2-nao)\" e solicitar uma resposta. Se a resposta for 1, o algoritmo deve ser executado novamente solicitando o número de gols marcados pelos times em uma nova partida, caso contrário deve ser encerrado imprimindo:\n",
        "\n",
        "- Quantos GRENAIS fizeram parte da estatística.\n",
        "- O número de vitórias do Inter.\n",
        "- O número de vitórias do Grêmio.\n",
        "- O número de Empates.\n",
        "- Uma mensagem indicando qual o time que venceu o maior número de GRENAIS (ou \"Nao houve vencedor\", caso termine empatado).\n",
        "\n",
        "## **Entrada**\n",
        "\n",
        "O arquivo de entrada contém 2 valores inteiros, correspondentes aos gols marcados pelo Inter e pelo Grêmio respectivamente. Em seguida háverá um inteiro (1 ou 2), correspondente à repetição do programa.\n",
        "\n",
        "## **Saída**\n",
        "\n",
        "Após cada leitura dos gols, deve ser impressa a mensagem \"Novo grenal (1-sim 2-nao)\". Quando o algoritmo for encerrado devem ser mostradas as estatísticas conforme a descrição apresentada acima. Obs: a palavra \"Gremio\" deve ser impressa sem acento, conforme o exemplo abaixo.\n",
        "\n",
        "3 2\n",
        "\n",
        "1\n",
        "\n",
        "2 3\n",
        "\n",
        "1\n",
        "\n",
        "3 1\n",
        "\n",
        "2\n",
        "\n",
        "Novo grenal (1-sim 2-nao)\n",
        "\n",
        "Novo grenal (1-sim 2-nao)\n",
        "\n",
        "Novo grenal (1-sim 2-nao)\n",
        "\n",
        "3 grenais\n",
        "\n",
        "Inter:2\n",
        "\n",
        "Gremio:1\n",
        "\n",
        "Empates:0\n",
        "\n",
        "Inter venceu mais\n"
      ]
    },
    {
      "cell_type": "code",
      "execution_count": null,
      "metadata": {
        "colab": {
          "base_uri": "https://localhost:8080/"
        },
        "id": "I0lW6ngEYWph",
        "outputId": "427e40e5-454e-4740-a2c7-259610b249dc"
      },
      "outputs": [
        {
          "name": "stdout",
          "output_type": "stream",
          "text": [
            "3 2\n",
            "Novo grenal (1 - sim 2 - nao)\n",
            "1\n",
            "2 2\n",
            "Novo grenal (1 - sim 2 - nao)\n",
            "2\n",
            "2 grenais\n",
            "Inter: 1\n",
            "Gremio: 0\n",
            "Empates: 1\n",
            "Inter venceu mais\n"
          ]
        }
      ],
      "source": [
        "INT_V = 0\n",
        "GRE_V = 0\n",
        "E = 0\n",
        "total_grenais = 0\n",
        "\n",
        "while True:\n",
        "    INT_gols, GRE_gols = map(int, input().split())\n",
        "\n",
        "    if INT_gols > GRE_gols:\n",
        "        INT_V += 1\n",
        "    elif GRE_gols > INT_gols:\n",
        "        GRE_V += 1\n",
        "    else:\n",
        "        E += 1\n",
        "\n",
        "    total_grenais += 1\n",
        "\n",
        "    novo_grenal = int(input(\"Novo grenal (1 - sim 2 - nao)\\n\"))\n",
        "\n",
        "    if novo_grenal == 2:\n",
        "        break\n",
        "\n",
        "print(f\"{total_grenais} grenais\\n\"\n",
        "      f\"Inter: {INT_V}\\n\"\n",
        "      f\"Gremio: {GRE_V}\\n\"\n",
        "      f\"Empates: {E}\")\n",
        "\n",
        "if INT_V > GRE_V:\n",
        "    print(\"Inter venceu mais\")\n",
        "elif GRE_V > INT_V:\n",
        "    print(\"Gremio venceu mais\")\n",
        "else:\n",
        "    print(\"Nao houve vencedor\")\n"
      ]
    },
    {
      "cell_type": "markdown",
      "metadata": {
        "id": "KapUZIAMYXMZ"
      },
      "source": [
        "# 11.\n",
        "\n",
        "Em cada fase do jogo do Pula Sapo você deve conduzir seu anfíbio através de uma sequência de canos de alturas diferentes até chegar a salvo no cano mais à direita. Entretanto, o sapo só consegue sobreviver se a diferença de altura entre canos consecutivos for de, no máximo, a altura do pulo do sapo. Caso a altura do cano seguinte seja muito alta, o sapo bate no cano e cai. Se a altura do cano seguinte for muito baixa, o sapo não aguenta a queda. O sapo sempre começa em cima do cano mais à esquerda.\n",
        "\n",
        "Neste jogo, a distância entre os canos é irrelevante, ou seja, o sapo sempre consegue alcançar o próximo cano com um pulo.\n",
        "\n",
        "Você deve escrever um programa que, dadas as alturas dos canos e a altura do pulo do sapo, mostra se a fase do jogo pode ser vencida ou não.\n",
        "\n",
        "## **Entrada**\n",
        "\n",
        "A entrada é dada em duas linhas. A primeira tem dois inteiros positivos **P** e **N**, a altura do pulo do sapo e o número de canos (1 ≤ **P** ≤ 5 e 2 ≤ **N** ≤ 100). A segunda linha tem **N** inteiros positivos que indicam as alturas dos canos ordenados da esquerda para a direita. Não há altura maior do que 10.\n",
        "\n",
        "## **Saída**\n",
        "\n",
        "A saída é dada em uma única linha. Se o sapo pode chegar no cano mais à direita, escreva \"YOU WIN\". Se o sapo não consegue, escreva \"GAME OVER\".\n",
        "\n",
        "5 10\n",
        "\n",
        "1 3 6 9 7 2 4 5 8 3\n",
        "\n",
        "\n",
        "1 2\n",
        "\n",
        "2 2\n",
        "\n",
        "\n",
        "\n",
        "1 2\n",
        "\n",
        "1 3\n",
        "\n",
        "YOU WIN\n",
        "\n",
        "\n",
        "\n",
        "YOU WIN\n",
        "\n",
        "\n",
        "\n",
        "GAME OVER"
      ]
    },
    {
      "cell_type": "code",
      "execution_count": null,
      "metadata": {
        "colab": {
          "base_uri": "https://localhost:8080/"
        },
        "id": "vj5BB3cJYl6r",
        "outputId": "190a8399-4f8d-48d0-8115-755d6b218c96"
      },
      "outputs": [
        {
          "name": "stdout",
          "output_type": "stream",
          "text": [
            "1 3 \n",
            "1 3 6 9 7 2 4 5 8 3\n",
            "GAME OVER\n"
          ]
        }
      ],
      "source": [
        "P, N = map(int, input().split())\n",
        "\n",
        "altura = list(map(int, input().split()))\n",
        "\n",
        "primeiro_cano = 0\n",
        "\n",
        "for i in range(1, N):\n",
        "    if abs(altura[i] - altura[primeiro_cano]) > P:\n",
        "        print(\"GAME OVER\")\n",
        "        break\n",
        "    else:\n",
        "        primeiro_cano = i\n",
        "else:\n",
        "    print(\"YOU WIN\")\n",
        "\n"
      ]
    },
    {
      "cell_type": "markdown",
      "metadata": {
        "id": "a_JJoUoMYmPM"
      },
      "source": [
        "# 12.\n",
        "\n",
        "Degustação de chá às escuras é a habilidade de identificar um chá usando apenas seus sentidos do olfato e paladar. Isto faz parte da Competição Ideal de Consumidores de Chá Puro (da sigla em inglês ICPC), que um programa de TV local está organizando. Durante o show, um bule de chá completo é preparado e são entregues uma xícara de chá para cada um dos cinco competidores. Os participantes devem cheirar, saborear e avaliar a amostra, de modo a identificar o tipo de chá, que pode ser: (1) o chá branco; (2) chá verde; (3) chá preto; ou (4) chá de ervas. No final, as respostas são verificadas para determinar o número de suposições corretas. Dado o tipo de chá real e as respostas fornecidas, determinar o número de participantes que receberam a resposta correta.\n",
        "\n",
        "## **Entrada**\n",
        "\n",
        "A primeira linha contém um inteiro **T** representando o tipo de chá (1 ≤ **T** ≤ 4). A segunda linha contém cinco inteiros **A, B, C, D** e **E**, que indica a resposta dada por cada competidor (1 ≤ **A, B, C, D, E** ≤ 4).\n",
        "\n",
        "## **Saída**\n",
        "\n",
        "A saída contém um inteiro representando o número de concorrentes que obtiveram a resposta correta.\n",
        "\n",
        "1\n",
        "\n",
        "1 2 3 2 1\n",
        "\n",
        "2"
      ]
    },
    {
      "cell_type": "code",
      "execution_count": null,
      "metadata": {
        "colab": {
          "base_uri": "https://localhost:8080/"
        },
        "id": "w9luxgtuYwqa",
        "outputId": "84d7df5f-5d1f-4210-bd82-eff74acf5049"
      },
      "outputs": [
        {
          "name": "stdout",
          "output_type": "stream",
          "text": [
            "1\n",
            "1 2 3 2 1\n",
            "2\n"
          ]
        }
      ],
      "source": [
        "T = int(input())\n",
        "respostas = list(map(int, input().split()))\n",
        "respostas_corretas = respostas.count(T)\n",
        "\n",
        "print(respostas_corretas)"
      ]
    },
    {
      "cell_type": "markdown",
      "metadata": {
        "id": "WMr3ske2YxNp"
      },
      "source": [
        "# 13.\n",
        "\n",
        "Ao observar a paisagem da Nlogônia, o professor MC percebeu que a cada intervalo de 100 metros existe um pico. E que exatamente na metade de dois picos há um vale. Logo, a cada 50 metros há um vale ou um pico e, ao longo da paisagem, não há um pico seguido por outro pico, nem um vale seguido por outro vale.\n",
        "\n",
        "O professor MC ficou curioso com esse padrão e quer saber se, ao medir outras paisagens, isso se repete. Sua tarefa é, dada uma paisagem, indicar se ela possui esse padrão ou não.\n",
        "\n",
        "## **Entrada**\n",
        "\n",
        "A entrada é dada em duas linhas. A primeira tem o número **N** de medidas da paisagem (1 < **N** ≤ 100). A segunda linha tem **N** inteiros: a altura **Hi** de cada medida (-10000 ≤ **Hi** ≤ 10000, para todo **Hi**, tal que 1 ≤ **i** ≤ **N**). Uma medida é considerada um pico se é maior que a medida anterior. Uma medida é considerada um vale se é menor que a medida anterior.\n",
        "\n",
        "## **Saída**\n",
        "\n",
        "A saída é dada em uma única linha. Caso a paisagem tenha o mesmo padrão da Nlogônia, deve ser mostrado o número 1. Caso contrário, mostra-se o número 0.\n",
        "\n",
        "3\n",
        "\n",
        "1 4 -2\n",
        "\n",
        "5\n",
        "\n",
        "100 99 112 -8 -7\n",
        "\n",
        "4\n",
        "\n",
        "1 2 2 1\n",
        "\n",
        "1\n",
        "\n",
        "\n",
        "1\n",
        "\n",
        "\n",
        "0"
      ]
    },
    {
      "cell_type": "code",
      "execution_count": null,
      "metadata": {
        "id": "DIGJEqaYY4ai"
      },
      "outputs": [],
      "source": []
    },
    {
      "cell_type": "markdown",
      "metadata": {
        "id": "mA0JH8wtY4wR"
      },
      "source": [
        "# 14.\n",
        "\n",
        "*Analógimôn Go!* é um jogo bastante popular. Os jogadores de *Analógimôn Go!* são divididos em três grandes times: Time Valor, Time Instinto e Time Místico, que são liderados pelos seus líderes Kandera, Esparky e Blanque, respectivamente. Naturalmente, você faz parte de um desses times!\n",
        "\n",
        "O líder do seu time está sendo acusado de infringir as regras do jogo por gerenciar incorretamente os doces recebidos do Professor que são destinados ao time. Isto criou uma grande polêmica dentro da equipe: alguns jogadores defendem que o líder realmente agiu incorretamente e deve sofrer um *impeachment* e ser afastado de seu cargo, enquanto outros defendem que ele não infringiu as regras, que a acusação é inverídica e que ele deve continuar no cargo.\n",
        "\n",
        "Para resolver a situação, uma votação será realizada entre todos os **N** jogadores do seu time. Cada jogador deverá votar se o *impeachment* deve ou não ocorrer. Se o número de votos favoráveis ao *impeachment* foi maior ou igual a 2/3 (dois terços) do total de jogadores, o líder será afastado. Caso contrário, a acusação é arquivada e ele continuará no cargo.\n",
        "\n",
        "Dados os votos de todos os jogadores, determine o resultado da votação.\n",
        "\n",
        "## **Entrada**\n",
        "\n",
        "A entrada contém vários casos de teste. A primeira linha de cada caso contém o inteiro **N** (1 ≤ **N** ≤ 105), o número de jogadores em seu time. A próxima linha contém **N** inteiros **v1**, ..., **vN** (**vi** = 0 ou 1), indicando os votos dos jogadores. O valor 1 indica um voto favorável ao *impeachment*, enquanto o valor 0 indica um voto contrário ao mesmo.\n",
        "\n",
        "A entrada termina com fim-de-arquivo (EOF).\n",
        "\n",
        "## **Saída**\n",
        "\n",
        "Para cada caso de teste, imprima uma linha contendo a palavra *impeachment* se o líder deve ser afastado de seu cargo, ou *acusação arquivada* caso contrário.\n",
        "\n",
        "6\n",
        "\n",
        "1 0 1 1 0 1\n",
        "\n",
        "\n",
        "5\n",
        "\n",
        "0 1 1 1 0\n",
        "\n",
        "impeachment\n",
        "\n",
        "\n",
        "\n",
        "acusacao arquivada"
      ]
    },
    {
      "cell_type": "code",
      "execution_count": null,
      "metadata": {
        "id": "eUqmL0KsZAmp"
      },
      "outputs": [],
      "source": [
        "while True:\n",
        "    try:\n",
        "        N = int(input())\n",
        "        votos_jogadores = input().split()\n",
        "        voto_favoravel = votos_jogadores.count('1')\n",
        "        if voto_favoravel >= 2*N/3:\n",
        "            print(\"impeachment\")\n",
        "        else:\n",
        "            print(\"acusacao arquivada\")\n",
        "    except EOFError:\n",
        "        break\n"
      ]
    },
    {
      "cell_type": "markdown",
      "metadata": {
        "id": "o7p0wJWrZBAJ"
      },
      "source": [
        "# 15.\n",
        "\n",
        "System of a Download é uma famosa banda de Hacker Metal! Certa vez, eles criaram um dispositivo, com seis botões, numerados de 0 a 5, e colocaram nesse dispositivo os seus 11 maiores sucessos. Para tocar uma destas músicas, é preciso pressionar dois botões. Com isso, os números destes dois botões são somados, e então toca-se a música correspondente ao número da soma, conforme a relação abaixo:\n",
        "\n",
        "0 - PROXYCITY1 - P.Y.N.G.2 - DNSUEY!3 - SERVERS4 - HOST!5 - CRIPTONIZE6 - OFFLINE DAY7 - SALT8 - ANSWER!9 - RAR?10 - WIFI ANTENNAS\n",
        "\n",
        "Por exemplo, se os botões pressionados forem 3 e 4, irá tocar a música 7 - SALTEscreva um programa que, dados os dois botões que forem pressionados, determine qual música irá tocar.\n",
        "\n",
        "## **Entrada**\n",
        "\n",
        "Um número inteiro **C** será informado, que será a quantidade de casos de teste. Cada caso tem dois valores inteiros, **X** e **Y**, representando quais botões foram pressionados.\n",
        "\n",
        "## **Saída**\n",
        "\n",
        "Para cada caso de teste, imprima o nome da música correspondente.\n",
        "\n",
        "3\n",
        "\n",
        "3 4\n",
        "\n",
        "0 0\n",
        "\n",
        "1 0\n",
        "\n",
        "SALT\n",
        "\n",
        "PROXYCITY\n",
        "\n",
        "P.Y.N.G."
      ]
    },
    {
      "cell_type": "code",
      "execution_count": null,
      "metadata": {
        "id": "cBH2eUNWZKfh",
        "colab": {
          "base_uri": "https://localhost:8080/"
        },
        "outputId": "36262c2b-4bca-444b-db67-b88ac5f5d520"
      },
      "outputs": [
        {
          "output_type": "stream",
          "name": "stdout",
          "text": [
            "3\n",
            "3 4\n",
            "SALT\n",
            "0 0\n",
            "PROXYCITY\n",
            "1 0\n",
            "P.Y.N.G.\n"
          ]
        }
      ],
      "source": [
        "musicas = [\"PROXYCITY\",\"P.Y.N.G.\",\"DNSUEY!\",\"SERVERS\",\"HOST!\",\"CRIPTONIZE\",\"OFFLINE DAY\",\"SALT\",\"ANSWER!\",\"RAR?\",\"WIFI ANTENNAS\"]\n",
        "\n",
        "C  = int(input())\n",
        "\n",
        "for i in range(C):\n",
        "    X, Y = map(int, input().split())\n",
        "    C = X + Y\n",
        "    print(musicas[C])\n"
      ]
    },
    {
      "cell_type": "markdown",
      "metadata": {
        "id": "yi1fCNreZLRJ"
      },
      "source": [
        "# 16.\n",
        "\n",
        "Para descontrair os alunos após as provas da OBI, a Diretora da escola organizou um campeonato de aviões de papel. Cada aluno participante receberá uma certa quantidade de folhas de um papel especial para fazer os seus modelos de aviões. A quantidade de folhas que cada aluno deverá receber ainda não foi determinada: ela será decidida pelos juízes do campeonato.\n",
        "\n",
        "A diretora convidou, para atuarem como juízes, engenheiros da Embraer, uma das mais bem sucedidas empresas brasileiras, que vende aviões com tecnologia brasileira no mundo todo. O campeonato está programado para começar logo após a prova da OBI, mas os juízes ainda não chegaram à escola. A diretora está aflita, pois comprou uma boa quantidade de folhas de papel especial, mas não sabe se a quantidade comprada vai ser suficiente.\n",
        "\n",
        "Considere, por exemplo, que a Diretora comprou 100 folhas de papel especial, e que há 33 competidores. Se os juízes decidirem que cada competidor tem direito a três folhas de papel, a quantidade comprada pela diretora é suficiente. Mas se os juízes decidirem que cada competidor tem direito a quatro folhas, a quantidade comprada pela diretora não seria suficiente.\n",
        "\n",
        "Você deve escrever um programa que, dados o número de competidores, o número de folhas de papel especial compradas pela Diretora e o número de folhas que cada competidor deve receber, determine se o número de folhas comprado pela Diretora é suficiente.\n",
        "\n",
        "## **Entrada**\n",
        "\n",
        "A entrada contém um único conjunto de testes, que deve ser lido do dispositivo de entrada padrão (normalmente o teclado). O arquivo de entrada contém três números inteiros **C** (1 ≤ **C** ≤ 1000), **P** (1 ≤ **P** ≤ 1000) e **F** (1 ≤ **F** ≤ 1000) representando respectivamente o número de competidores, a quantidade de folhas de papel especial compradas pela Diretora e a quantidade de folhas de papel especial que cada competidor deve receber.\n",
        "\n",
        "## **Saída**\n",
        "\n",
        "Seu programa deve imprimir, na saída padrão, o caractere ‘S’ se a quantidade de folhas compradas pela Diretora é suficiente, ou o caractere ‘N’ caso contrário. Note que os caracteres devem ser letras maiúsculas.\n",
        "\n",
        "10 100 10\n",
        "\n",
        "10 90 10\n",
        "\n",
        "5 40 2\n",
        "\n",
        "S\n",
        "\n",
        "N\n",
        "\n",
        "S"
      ]
    },
    {
      "cell_type": "code",
      "execution_count": null,
      "metadata": {
        "colab": {
          "base_uri": "https://localhost:8080/"
        },
        "id": "qpG7BK1uZSpL",
        "outputId": "cf67483a-deef-4bf3-b6f1-8ace53c76a82"
      },
      "outputs": [
        {
          "output_type": "stream",
          "name": "stdout",
          "text": [
            "5 40 2\n",
            "N\n"
          ]
        }
      ],
      "source": [
        "C, P, F = map(int, input().split())\n",
        "\n",
        "F = C * P\n",
        "\n",
        "if F <= P:\n",
        "    print('S')\n",
        "else:\n",
        "    print('N')\n",
        "\n"
      ]
    },
    {
      "cell_type": "markdown",
      "metadata": {
        "id": "pu-QV7fEZTBT"
      },
      "source": [
        "# 17.\n",
        "\n",
        "Um novo jogo chamado Ímpar, Par ou Roubo (IPR) está se tornando muito popular. Esse jogo surgiu quando alguns amigos estavam sem conexão com a internet, sem celular, sem computador e bastante desocupados. O jogo está tão popular que irá acontecer um campeonato mundial de IPR e cada país do mundo irá escolher um representante para competir.\n",
        "\n",
        "O jogo funciona da seguinte forma: dois jogadores participam, o jogador 1 escolhe entre par ou ímpar, então cada jogador escolhe um inteiro positivo, se a soma desses números for par e o jogador 1 tiver escolhido par então o jogador 1 ganha, se a soma for ímpar o jogador 2 ganha. Caso o jogador 1 tivesse escolhido ímpar ele ganharia se a soma fosse ímpar, caso a soma fosse par o jogador 2 ganharia. Nada de diferente de um jogo de par ou ímpar convencional, correto?\n",
        "\n",
        "A diferença do jogo é que o jogador 1 pode roubar e assim assegurar sua vitória independentemente do resultado do jogo de ímpar ou par convencional, já o jogador 2 pode ou não acusar o jogador 1 de roubo. Com essas adições no jogo se o jogador 1 roubar e o jogador 2 acusar o roubo então o jogador 2 ganha, caso o jogador 2 não acuse o roubo e o jogador 1 roubar então o jogador 1 ganha, caso o jogador 2 acuse o roubo, mas o jogador 1 não tiver roubado então o jogador 1 ganha, se o jogador 1 não roubar e o jogador 2 não acusar o roubo o jogo segue como descrito anteriormente.\n",
        "\n",
        "Você foi contratado pela OIIPR (Organização Internacional de Ímpar, Par ou Roubo) para desenvolver um programa que dada a escolha do jogador 1 entre par ou ímpar, os números escolhidos como jogada e as ações dos jogadores (roubo/acusação) mostre quem foi o vencedor.\n",
        "\n",
        "## **Entrada**\n",
        "\n",
        "A entrada consite de uma única linha contendo 5 inteiros: **p**, **j1**, **j2**, **r**, **a**. ( 0 ≤ **p, r, a** ≤ 1 e 1 ≤ **j1**, **j2** ≤ 100).\n",
        "\n",
        "**p** representa a escolha do jogador 1 (se **p** = 1 então o jogador 1 escolheu par, se **p** = 0 então o jogador 1 escolheu ímpar). Os valores **j1**, **j2**, representam respectivamente o número escolhido pelo jogador 1 e pelo jogador 2. **r** representa se o jogador 1 roubou (se **r** = 1 então o jogador 1 roubou, se **r** = 0 então o jogador 1 não roubou), **a** representa se o jogador 2 acusou o roubo (se **a** = 1 então o jogador 2 acusou o jogador 1 de roubo, se **a** = 0 então ele não acusou o jogador 1 de roubo).\n",
        "\n",
        "## **Saída**\n",
        "\n",
        "Imprima \"Jogador 1 ganha!\" se o jogador 1 ganhou ou \"Jogador 2 ganha!\" se o jogador 2 ganhou (sem as aspas).\n",
        "\n",
        "1 4 5 0 \n",
        "\n",
        "1 4 5 1 0\n",
        "\n",
        "1 4 5 1 1"
      ]
    },
    {
      "cell_type": "code",
      "source": [
        "p, j1, j2, r, a = map(int, input().split())\n",
        "\n",
        "soma = j1 + j2\n",
        "paridade_soma = soma % 2\n",
        "\n",
        "if r == 0:\n",
        "    if p == paridade_soma:\n",
        "        print(\"Jogador 1 ganha!\")\n",
        "    else:\n",
        "        print(\"Jogador 2 ganha!\")\n",
        "else:\n",
        "    if a == 0:\n",
        "        print(\"Jogador 1 ganha!\")\n",
        "    else:\n",
        "        print(\"Jogador 2 ganha!\")\n"
      ],
      "metadata": {
        "id": "lFr-7zdNHR6X"
      },
      "execution_count": null,
      "outputs": []
    },
    {
      "cell_type": "markdown",
      "source": [
        "# 18.\n",
        "\n",
        "Amélia ama o Natal, e sua parte favorita nesta data é montar a árvore de natal! Ela adora decorar a árvore com bolinhas e luzes coloridas, para que ela fique brilhante e divertida! Porém, Amélia gosta das coisas bem distribuídas e exige que sua árvore não tenha mais que a metade de galhos em bolinhas. Assim, se sua árvore de natal tem **G** galhos, ela precisa ***G**/2* bolinhas. Se o número **G** de galhos for ímpar, esse valor será arredondado para baixo.\n",
        "\n",
        "Neste ano, Amélia resolveu atualizar sua árvore e irá comprar uma nova. Além disso, algumas de suas bolinhas quebraram, e ela vai precisar saber quantas novas bolinhas vai precisar comprar para manter sua árvore equilibrada do jeito que gosta!\n",
        "\n",
        "Para isso, ela quer sua ajuda! Dada a quantidade de bolinhas que Amélia tem e a quantidade de galhos que sua nova árvore terá, diga para Amélia quantas bolinhas de natal ela precisa comprar para decorar sua nova árvore!\n",
        "\n",
        "## **Entrada**\n",
        "\n",
        "A entrada consiste de dois valores inteiros, lidos em duas linhas, **B** (1 < **B** < 103) e **G** (100 < **G** < 1000) que indicam, respectivamente, a quantidade de bolinhas que Amélia já possui e a quantidade de galhos de sua nova árvore de natal.\n",
        "\n",
        "## **Saída**\n",
        "\n",
        "Imprima a quantidade de bolinhas que Amélia precisa comprar para completar sua árvore, com a mensagem \"Faltam **B** bolinha(s)\", onde **B** é a quantidade de bolinhas que Amelia precisa comprar. Caso Amelia possua bolinhas suficientes ou de sobra, imprima a mensagem \"Amelia tem todas bolinhas!\"\n",
        "\n",
        "300\n",
        "\n",
        "700\n",
        "\n",
        "300\n",
        "\n",
        "600\n",
        "\n",
        "300\n",
        "\n",
        "701\n",
        "\n",
        "Faltam 50 bolinha(s)\n",
        "\n",
        "\n",
        "Amelia tem todas bolinhas!\n",
        "\n",
        "\n",
        "Faltam 50 bolinha(s)"
      ],
      "metadata": {
        "id": "FhbU9hVBGoSq"
      }
    },
    {
      "cell_type": "code",
      "source": [
        "B = int(input())\n",
        "G = int(input())\n",
        "\n",
        "bolinhas_que_faltam = G//2 - B\n",
        "\n",
        "if B < G//2:\n",
        "    print(\"Faltam\", bolinhas_que_faltam, \"bolinha(s)\")\n",
        "else:\n",
        "    print(\"Amelia tem todas bolinhas!\")\n"
      ],
      "metadata": {
        "colab": {
          "base_uri": "https://localhost:8080/"
        },
        "id": "Lix2_7OHGyjO",
        "outputId": "f0fcf674-5b22-4613-a24d-67563525479d"
      },
      "execution_count": null,
      "outputs": [
        {
          "output_type": "stream",
          "name": "stdout",
          "text": [
            "300\n",
            "701\n",
            "Faltam 50 bolinha(s)\n"
          ]
        }
      ]
    },
    {
      "cell_type": "markdown",
      "source": [
        "# 19.\n",
        "\n",
        "Dados dois números inteiros, n e m, quantos dígitos tem  $n^m$?\n",
        "\n",
        "Exemplos:\n",
        "\n",
        "2 e 10 → $2^{10}$ = 1024 - 4 dígitos\n",
        "\n",
        "3 e 9 → $3^9$ = 19683 - 5 dígitos\n",
        "\n",
        "## **Entrada**\n",
        "\n",
        "A entrada é composta por vários casos de teste. A primeira linha tem um número inteiro **C**, representando a quantidade de casos de teste. As **C** linhas seguintes contém dois números inteiros **N** e **M** (1 <= **N**, **M** <= 100).\n",
        "\n",
        "## **Saída**\n",
        "\n",
        "Para cada caso de teste de entrada do seu programa, você deve imprimir um número inteiro contendo a quantidade de dígitos do resultado da potência calculada no respectivo caso de teste.\n",
        "\n",
        "4\n",
        "\n",
        "1 1\n",
        "\n",
        "2 10\n",
        "\n",
        "3 9\n",
        "\n",
        "100 100\n",
        "\n",
        "1\n",
        "\n",
        "4\n",
        "\n",
        "5\n",
        "\n",
        "201"
      ],
      "metadata": {
        "id": "RZemKoeAGy4w"
      }
    },
    {
      "cell_type": "code",
      "source": [
        "import math\n",
        "\n",
        "C = int(input())\n",
        "\n",
        "for i in range(C):\n",
        "    N, M = map(int, input().split())\n",
        "\n",
        "    qtd_digitos = math.floor(M * math.log10(N)) + 1\n",
        "\n",
        "    print(qtd_digitos)\n"
      ],
      "metadata": {
        "colab": {
          "base_uri": "https://localhost:8080/"
        },
        "id": "26TB43iSG9PB",
        "outputId": "a596910f-9d86-4ad4-b189-0f9547a84afe"
      },
      "execution_count": null,
      "outputs": [
        {
          "output_type": "stream",
          "name": "stdout",
          "text": [
            "4\n",
            "1 1\n",
            "1\n",
            "2 10\n",
            "4\n",
            "3 9\n",
            "5\n",
            "100 100\n",
            "201\n"
          ]
        }
      ]
    },
    {
      "cell_type": "markdown",
      "source": [
        "# 20.\n",
        "\n",
        "A organização da OIBR, Olimpíada Internacional de Basquete de Robô, está começando a ter problemas com dois times: os Bit Warriors e os Byte Bulls. É que os robôs desses times acertam quase todos os lançamentos, de qualquer posição na quadra! Pensando bem, o jogo de basquete ficaria mesmo sem graça se jogadores conseguissem acertar qualquer lançamento, não é mesmo? Uma das medidas que a OIBR está implantando é uma nova pontuação para os lançamentos, de acordo com a distância do robô para o início da quadra. A quadra tem 2000 centímetros de comprimento, como na figura.\n",
        "\n",
        "![https://resources.beecrowd.com.br/gallery/images/problems/UOJ_2780.png](https://resources.beecrowd.com.br/gallery/images/problems/UOJ_2780.png)\n",
        "\n",
        "\n",
        "Dada a distância D do robô até o início da quadra, onde está a cesta, a regra é a seguinte:\n",
        "\n",
        "- Se **D** ≤ 800, a cesta vale 1 ponto;\n",
        "- Se 800 < **D** ≤ 1400, a cesta vale 2 pontos;\n",
        "- Se 1400 < **D** ≤ 2000, a cesta vale 3 pontos.\n",
        "\n",
        "A organização da OIBR precisa de ajuda para automatizar o placar do jogo. Dado o valor da distância **D**, você deve escrever um programa para calcular o número de pontos do lançamento.\n",
        "\n",
        "## **Entrada**\n",
        "\n",
        "A primeira e única linha da entrada contém um inteiro **D** (0 ≤ **D** ≤ 2000) indicando a distância do robô para o início da quadra, em centímetros, no momento do lançamento.\n",
        "\n",
        "## **Saída**\n",
        "\n",
        "Seu programa deve produzir uma única linha, contendo um inteiro, 1, 2 ou 3, indicando a pontuação do lançamento.\n",
        "\n",
        "\n",
        "1720\n",
        "\n",
        "250\n",
        "\n",
        "1400\n",
        "\n",
        "3\n",
        "\n",
        "1\n",
        "\n",
        "2"
      ],
      "metadata": {
        "id": "l6ITNzING9un"
      }
    },
    {
      "cell_type": "code",
      "source": [
        "D = int(input())\n",
        "\n",
        "if D <= 800:\n",
        "    print(1)\n",
        "elif D <= 1400:\n",
        "    print(2)\n",
        "else:\n",
        "    print(3)\n",
        "\n"
      ],
      "metadata": {
        "colab": {
          "base_uri": "https://localhost:8080/"
        },
        "id": "XsC3JSKkHLNH",
        "outputId": "c1a3a3dc-de88-4032-fb50-f3ce91073b59"
      },
      "execution_count": null,
      "outputs": [
        {
          "output_type": "stream",
          "name": "stdout",
          "text": [
            "1400\n",
            "2\n"
          ]
        }
      ]
    }
  ],
  "metadata": {
    "colab": {
      "provenance": [],
      "authorship_tag": "ABX9TyNZ9jtGWTOrn5nYbgGuvplS",
      "include_colab_link": true
    },
    "kernelspec": {
      "display_name": "Python 3",
      "name": "python3"
    },
    "language_info": {
      "name": "python"
    }
  },
  "nbformat": 4,
  "nbformat_minor": 0
}